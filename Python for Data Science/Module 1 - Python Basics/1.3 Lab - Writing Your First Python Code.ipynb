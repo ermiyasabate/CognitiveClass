{
 "cells": [
  {
   "cell_type": "markdown",
   "metadata": {},
   "source": [
    "<p style=\"text-align:center\">\n",
    "    <a href=\"https://skills.network/?utm_medium=Exinfluencer&utm_source=Exinfluencer&utm_content=000026UJ&utm_term=10006555&utm_id=NA-SkillsNetwork-Channel-SkillsNetworkCoursesIBMDeveloperSkillsNetworkPY0101ENSkillsNetwork1005-2022-01-01\" target=\"_blank\">\n",
    "    <img src=\"https://cf-courses-data.s3.us.cloud-object-storage.appdomain.cloud/assets/logos/SN_web_lightmode.png\" width=\"200\" alt=\"Skills Network Logo\"  />\n",
    "    </a>\n",
    "</p>\n",
    "\n",
    "\n",
    "# Writing Your First Python Code\n",
    "\n",
    "\n",
    "Estimated time needed: **25** minutes\n",
    "    \n",
    "\n",
    "## Objectives\n",
    "\n",
    "After completing this lab you will be able to:\n",
    "\n",
    "* Write basic code in Python\n",
    "* Work with various types of data in Python\n",
    "* Convert the data from one type to another\n",
    "* Use expressions and variables to perform operations\n"
   ]
  },
  {
   "cell_type": "markdown",
   "metadata": {},
   "source": [
    "<h2>Table of Contents</h2>\n",
    "<div class=\"alert alert-block alert-info\" style=\"margin-top: 20px\">\n",
    "    <ul>\n",
    "        <li>\n",
    "            <a href=\"#hello\">Say \"Hello\" to the world in Python</a>\n",
    "            <ul>\n",
    "                <li><a href=\"version\">What version of Python are we using?</a></li>\n",
    "                <li><a href=\"comments\">Writing comments in Python</a></li>\n",
    "                <li><a href=\"errors\">Errors in Python</a></li>\n",
    "                <li><a href=\"python_error\">Does Python know about your error before it runs your code?</a></li>\n",
    "                <li><a href=\"exercise\">Exercise: Your First Program</a></li>\n",
    "            </ul>\n",
    "        </li>\n",
    "        <li>\n",
    "            <a href=\"#types_objects\">Types of objects in Python</a>\n",
    "            <ul>\n",
    "                <li><a href=\"int\">Integers</a></li>\n",
    "                <li><a href=\"float\">Floats</a></li>\n",
    "                <li><a href=\"convert\">Converting from one object type to a different object type</a></li>\n",
    "                <li><a href=\"bool\">Boolean data type</a></li>\n",
    "                <li><a href=\"exer_type\">Exercise: Types</a></li>\n",
    "            </ul>\n",
    "        </li>\n",
    "        <li>\n",
    "            <a href=\"#expressions\">Expressions and Variables</a>\n",
    "            <ul>\n",
    "                <li><a href=\"exp\">Expressions</a></li>\n",
    "                <li><a href=\"exer_exp\">Exercise: Expressions</a></li>\n",
    "                <li><a href=\"var\">Variables</a></li>\n",
    "                <li><a href=\"exer_exp_var\">Exercise: Expression and Variables in Python</a></li>\n",
    "            </ul>\n",
    "        </li>\n",
    "    </ul>\n",
    "    <p>\n",
    "        Estimated time needed: <strong>25 min</strong>\n",
    "    </p>\n",
    "</div>\n",
    "\n",
    "<hr>\n"
   ]
  },
  {
   "cell_type": "code",
   "execution_count": null,
   "metadata": {},
   "outputs": [],
   "source": []
  }
 ],
 "metadata": {
  "language_info": {
   "name": "python"
  }
 },
 "nbformat": 4,
 "nbformat_minor": 2
}
